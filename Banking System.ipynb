{
 "cells": [
  {
   "cell_type": "code",
   "execution_count": 1,
   "id": "19220c27-b706-49cc-a1d5-0c39950c23f7",
   "metadata": {},
   "outputs": [
    {
     "name": "stdout",
     "output_type": "stream",
     "text": [
      "\n",
      "--- Banking System Menu ---\n",
      "1. Create Account\n",
      "2. Deposit\n",
      "3. Withdraw\n",
      "4. Check Balance\n",
      "5. Exit\n"
     ]
    },
    {
     "name": "stdin",
     "output_type": "stream",
     "text": [
      "Enter your choice:  5\n"
     ]
    },
    {
     "name": "stdout",
     "output_type": "stream",
     "text": [
      "Thank you for using the banking system!\n"
     ]
    }
   ],
   "source": [
    "class BankAccount:\n",
    "    def __init__(self, account_number, name, balance=0.0):\n",
    "        self.account_number = account_number\n",
    "        self.name = name\n",
    "        self.balance = balance\n",
    "\n",
    "    def deposit(self, amount):\n",
    "        if amount > 0:\n",
    "            self.balance += amount\n",
    "            print(f\"Deposited {amount:.2f}. New balance is {self.balance:.2f}.\")\n",
    "        else:\n",
    "            print(\"Deposit amount must be positive.\")\n",
    "\n",
    "    def withdraw(self, amount):\n",
    "        if amount > self.balance:\n",
    "            print(\"Insufficient balance!\")\n",
    "        elif amount <= 0:\n",
    "            print(\"Withdrawal amount must be positive.\")\n",
    "        else:\n",
    "            self.balance -= amount\n",
    "            print(f\"Withdrew {amount:.2f}. New balance is {self.balance:.2f}.\")\n",
    "\n",
    "    def get_balance(self):\n",
    "        return self.balance\n",
    "\n",
    "    def __str__(self):\n",
    "        return f\"Account[{self.account_number}] - {self.name} - Balance: {self.balance:.2f}\"\n",
    "\n",
    "class BankingSystem:\n",
    "    def __init__(self):\n",
    "        self.accounts = {}\n",
    "        self.next_account_number = 1\n",
    "\n",
    "    def create_account(self, name, initial_deposit=0.0):\n",
    "        account_number = self.next_account_number\n",
    "        self.next_account_number += 1\n",
    "        account = BankAccount(account_number, name, initial_deposit)\n",
    "        self.accounts[account_number] = account\n",
    "        print(f\"Account created successfully! Account Number: {account_number}\")\n",
    "        return account\n",
    "\n",
    "    def get_account(self, account_number):\n",
    "        return self.accounts.get(account_number)\n",
    "\n",
    "    def menu(self):\n",
    "        while True:\n",
    "            print(\"\\n--- Banking System Menu ---\")\n",
    "            print(\"1. Create Account\")\n",
    "            print(\"2. Deposit\")\n",
    "            print(\"3. Withdraw\")\n",
    "            print(\"4. Check Balance\")\n",
    "            print(\"5. Exit\")\n",
    "\n",
    "            choice = input(\"Enter your choice: \")\n",
    "\n",
    "            if choice == \"1\":\n",
    "                name = input(\"Enter account holder's name: \")\n",
    "                initial_deposit = float(input(\"Enter initial deposit (0 if none): \"))\n",
    "                self.create_account(name, initial_deposit)\n",
    "\n",
    "            elif choice == \"2\":\n",
    "                account_number = int(input(\"Enter account number: \"))\n",
    "                account = self.get_account(account_number)\n",
    "                if account:\n",
    "                    amount = float(input(\"Enter deposit amount: \"))\n",
    "                    account.deposit(amount)\n",
    "                else:\n",
    "                    print(\"Account not found!\")\n",
    "\n",
    "            elif choice == \"3\":\n",
    "                account_number = int(input(\"Enter account number: \"))\n",
    "                account = self.get_account(account_number)\n",
    "                if account:\n",
    "                    amount = float(input(\"Enter withdrawal amount: \"))\n",
    "                    account.withdraw(amount)\n",
    "                else:\n",
    "                    print(\"Account not found!\")\n",
    "\n",
    "            elif choice == \"4\":\n",
    "                account_number = int(input(\"Enter account number: \"))\n",
    "                account = self.get_account(account_number)\n",
    "                if account:\n",
    "                    print(account)\n",
    "                else:\n",
    "                    print(\"Account not found!\")\n",
    "\n",
    "            elif choice == \"5\":\n",
    "                print(\"Thank you for using the banking system!\")\n",
    "                break\n",
    "\n",
    "            else:\n",
    "                print(\"Invalid choice. Please try again.\")\n",
    "\n",
    "# Initialize and run the banking system\n",
    "if __name__ == \"__main__\":\n",
    "    system = BankingSystem()\n",
    "    system.menu()"
   ]
  },
  {
   "cell_type": "code",
   "execution_count": null,
   "id": "7293138c-f4fe-4afa-a5bb-856e5e3457d3",
   "metadata": {},
   "outputs": [],
   "source": []
  }
 ],
 "metadata": {
  "kernelspec": {
   "display_name": "Python 3 (ipykernel)",
   "language": "python",
   "name": "python3"
  },
  "language_info": {
   "codemirror_mode": {
    "name": "ipython",
    "version": 3
   },
   "file_extension": ".py",
   "mimetype": "text/x-python",
   "name": "python",
   "nbconvert_exporter": "python",
   "pygments_lexer": "ipython3",
   "version": "3.12.7"
  }
 },
 "nbformat": 4,
 "nbformat_minor": 5
}
